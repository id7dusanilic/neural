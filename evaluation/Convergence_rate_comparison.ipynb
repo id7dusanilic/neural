{
 "cells": [
  {
   "cell_type": "markdown",
   "id": "56159e29-639d-46e5-9741-bb0287c5a239",
   "metadata": {},
   "source": [
    "# Comparison of optimization alghorithms\n",
    "In this example, a classic neural network is created using the `neural` framework. This network is then trained on the MNIST data set of hand-written digits, using SGD and Adam algorithms in order to compare their convergence rates."
   ]
  },
  {
   "cell_type": "code",
   "execution_count": null,
   "id": "c1dc306c-b6bb-478e-9976-71f22b5ef4ab",
   "metadata": {},
   "outputs": [],
   "source": [
    "import matplotlib.pyplot as plt"
   ]
  },
  {
   "cell_type": "code",
   "execution_count": null,
   "id": "71f57913-9c55-4535-9f0b-23e5efb8b5c4",
   "metadata": {},
   "outputs": [],
   "source": [
    "import sys\n",
    "sys.path.append(\"..\")"
   ]
  },
  {
   "cell_type": "code",
   "execution_count": null,
   "id": "39814444-6910-443d-8337-da33925ed4dc",
   "metadata": {},
   "outputs": [],
   "source": [
    "import numpy as np\n",
    "import time\n",
    "\n",
    "from neural import MNIST, Tensor, nn, optim\n",
    "from utils import *"
   ]
  },
  {
   "cell_type": "markdown",
   "id": "3650fee3-7ebc-46f2-bc46-1464832c98a4",
   "metadata": {},
   "source": [
    "## Importing MNIST training data"
   ]
  },
  {
   "cell_type": "code",
   "execution_count": null,
   "id": "e90fb65e-283b-4296-93ce-d4e3e92259e2",
   "metadata": {},
   "outputs": [],
   "source": [
    "# Loading training set\n",
    "allTrainImages, allTrainLabels = MNIST.get(\"train\")\n",
    "# Images are normalized, all values are in the range [-1, 1]\n",
    "allTrainImages = normalize(allTrainImages, 0.5, 0.5)"
   ]
  },
  {
   "cell_type": "markdown",
   "id": "77b65894-3fb2-4857-9353-91a3d6e208f2",
   "metadata": {},
   "source": [
    "## Defining the Neural Network architecture"
   ]
  },
  {
   "cell_type": "code",
   "execution_count": null,
   "id": "2d600bae-8f1c-482c-9831-0ba5af7d1c16",
   "metadata": {},
   "outputs": [],
   "source": [
    "class Network(nn.Module):\n",
    "    \n",
    "    def __init__(self):\n",
    "        super().__init__()\n",
    "        self.fc1 = nn.Linear(784, 128)\n",
    "        self.fc2 = nn.Linear(128, 64)\n",
    "        self.fc3 = nn.Linear(64, 10)\n",
    "        \n",
    "    def forward(self, x):\n",
    "        x = nn.ReLU()(self.fc1(x))\n",
    "        x = nn.Dropout(p=0.2)(nn.ReLU()(self.fc2(x)))\n",
    "        x = self.fc3(x)\n",
    "        return x\n",
    "    \n",
    "model = Network()"
   ]
  },
  {
   "cell_type": "markdown",
   "id": "c01baffd-9f55-4a1a-824f-94017d0a2aa8",
   "metadata": {},
   "source": [
    "## Choosing training criterion (loss function)"
   ]
  },
  {
   "cell_type": "code",
   "execution_count": null,
   "id": "18b02a4d-c00c-4c3f-b1d8-d056edcb0c6b",
   "metadata": {},
   "outputs": [],
   "source": [
    "# Loss function\n",
    "reduction = \"mean\"\n",
    "criterion = nn.CrossEntropyLoss(reduction=reduction)"
   ]
  },
  {
   "cell_type": "markdown",
   "id": "0a986d5a-c5ce-492d-abd9-8ab5fa67196e",
   "metadata": {},
   "source": [
    "## Training\n",
    "\n",
    "### Choosing optimizer parameters"
   ]
  },
  {
   "cell_type": "code",
   "execution_count": null,
   "id": "10609622-e613-48ed-8c6d-28d686f4772c",
   "metadata": {},
   "outputs": [],
   "source": [
    "# SGD setup\n",
    "SGDSetup = dict(\n",
    "    lr = 0.03,\n",
    "    momentum = 0.9)\n",
    "\n",
    "# Adam setup\n",
    "AdamSetup = dict(\n",
    "    lr = 0.001,\n",
    "    betas = (0.9, 0.999),\n",
    "    eps = 1e-08)\n",
    "\n",
    "configurations = ((optim.SGD, SGDSetup, \"SGD\"), (optim.Adam, AdamSetup, \"Adam\"))"
   ]
  },
  {
   "cell_type": "markdown",
   "id": "5e8cac63-8a1a-405a-bad6-b277fb5b4710",
   "metadata": {},
   "source": [
    "## Training\n",
    "\n",
    "### Choosing training parameters"
   ]
  },
  {
   "cell_type": "code",
   "execution_count": null,
   "id": "92805049-dc20-443d-b720-4ad4717df62c",
   "metadata": {},
   "outputs": [],
   "source": [
    "epochs = 1\n",
    "batchSize = 300"
   ]
  },
  {
   "cell_type": "code",
   "execution_count": null,
   "id": "b9452d29-af3a-4878-a6a9-77118560f9c9",
   "metadata": {},
   "outputs": [],
   "source": [
    "numBatches = allTrainImages.shape[0] // batchSize\n",
    "numTraining = int(numBatches * batchSize)\n",
    "\n",
    "print(f\"Number of epochs: {epochs}\")\n",
    "print(f\"Batch size: {batchSize}\")\n",
    "print(f\"Total number of train images: {numTraining}\")\n",
    "print(f\"Total number of batches: {numBatches}\")\n",
    "\n",
    "# Reshaping training data\n",
    "trainImages = allTrainImages[:numTraining].reshape(numBatches, -1, allTrainImages.shape[-2], allTrainImages.shape[-1])\n",
    "trainLabels = allTrainLabels[:numTraining].reshape(numBatches, -1)"
   ]
  },
  {
   "cell_type": "markdown",
   "id": "4be548a5-e149-4ac2-9554-92880c4eb4e5",
   "metadata": {},
   "source": [
    "## Training using each algorithm"
   ]
  },
  {
   "cell_type": "code",
   "execution_count": null,
   "id": "62b8e10e-f787-400f-bf8e-e44d4d11c004",
   "metadata": {
    "tags": []
   },
   "outputs": [],
   "source": [
    "for algorithm, config, name in configurations:\n",
    "    print(f\"Started training using {name} algorithm\")\n",
    "    model = Network()    \n",
    "\n",
    "    optimizer = algorithm(\n",
    "        model.parameters(),\n",
    "        **config)\n",
    "    \n",
    "    numBatches = allTrainImages.shape[0] // batchSize\n",
    "    numTraining = int(numBatches * batchSize)\n",
    "\n",
    "    trainImages = allTrainImages[:numTraining].reshape(numBatches, -1, allTrainImages.shape[-2], allTrainImages.shape[-1])\n",
    "    trainLabels = allTrainLabels[:numTraining].reshape(numBatches, -1)\n",
    "        \n",
    "    lossTrack = np.zeros(numBatches)\n",
    "    startTime = time.time()\n",
    "    for i, (images, labels) in enumerate(zip(trainImages, trainLabels)):\n",
    "        images = images.reshape(images.shape[0], -1)\n",
    "        optimizer.zeroGrad()\n",
    "        out = model(images)\n",
    "        loss = criterion(out, labels)\n",
    "        loss.backward()\n",
    "        optimizer.step()\n",
    "        lossTrack[i] = loss.item()\n",
    "    else:\n",
    "        endTime = time.time()\n",
    "        print(f\"Finished training in {endTime - startTime:.2f}s\\n\")\n",
    "        np.savetxt(f\"lossTrack_{name}\", lossTrack)"
   ]
  },
  {
   "cell_type": "code",
   "execution_count": null,
   "id": "b40a40a5-f6a4-40f3-908e-9fd136d78a91",
   "metadata": {},
   "outputs": [],
   "source": [
    "plots = [(np.loadtxt(f\"lossTrack_{name}\"), batchSize, name) for _, _, name in configurations]\n",
    "\n",
    "plotLossTrack(plots)"
   ]
  }
 ],
 "metadata": {
  "kernelspec": {
   "display_name": "Python 3 (ipykernel)",
   "language": "python",
   "name": "python3"
  },
  "language_info": {
   "codemirror_mode": {
    "name": "ipython",
    "version": 3
   },
   "file_extension": ".py",
   "mimetype": "text/x-python",
   "name": "python",
   "nbconvert_exporter": "python",
   "pygments_lexer": "ipython3",
   "version": "3.9.16"
  }
 },
 "nbformat": 4,
 "nbformat_minor": 5
}
