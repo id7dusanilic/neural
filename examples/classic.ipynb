{
 "cells": [
  {
   "cell_type": "markdown",
   "id": "56159e29-639d-46e5-9741-bb0287c5a239",
   "metadata": {},
   "source": [
    "# Example of building and training a classic Neural Network\n",
    "In this example, a classic neural network is created using the `neural` framework. This network is then trained on the MNIST data set of hand-written digits.\n",
    "You can skip training an use pretrained network to see performance results by setting the `usePretrained` variable to `True`."
   ]
  },
  {
   "cell_type": "code",
   "execution_count": null,
   "id": "014db347-c957-451c-88be-d28ceac89c47",
   "metadata": {},
   "outputs": [],
   "source": [
    "usePretrained = False"
   ]
  },
  {
   "cell_type": "code",
   "execution_count": null,
   "id": "c1dc306c-b6bb-478e-9976-71f22b5ef4ab",
   "metadata": {},
   "outputs": [],
   "source": [
    "import matplotlib.pyplot as plt"
   ]
  },
  {
   "cell_type": "code",
   "execution_count": null,
   "id": "71f57913-9c55-4535-9f0b-23e5efb8b5c4",
   "metadata": {},
   "outputs": [],
   "source": [
    "import sys\n",
    "sys.path.append(\"..\")"
   ]
  },
  {
   "cell_type": "code",
   "execution_count": null,
   "id": "39814444-6910-443d-8337-da33925ed4dc",
   "metadata": {},
   "outputs": [],
   "source": [
    "import numpy as np\n",
    "import time\n",
    "\n",
    "from neural import MNIST, Tensor, nn, optim\n",
    "from utils import *"
   ]
  },
  {
   "cell_type": "markdown",
   "id": "3650fee3-7ebc-46f2-bc46-1464832c98a4",
   "metadata": {},
   "source": [
    "## Importing MNIST training data"
   ]
  },
  {
   "cell_type": "code",
   "execution_count": null,
   "id": "e90fb65e-283b-4296-93ce-d4e3e92259e2",
   "metadata": {},
   "outputs": [],
   "source": [
    "# Loading training set\n",
    "allTrainImages, allTrainLabels = MNIST.get(\"train\")\n",
    "# Images are normalized, all values are in the range [-1, 1]\n",
    "allTrainImages = normalize(allTrainImages, 0.5, 0.5)"
   ]
  },
  {
   "cell_type": "markdown",
   "id": "77b65894-3fb2-4857-9353-91a3d6e208f2",
   "metadata": {},
   "source": [
    "## Defining the Neural Network architecture"
   ]
  },
  {
   "cell_type": "code",
   "execution_count": null,
   "id": "2d600bae-8f1c-482c-9831-0ba5af7d1c16",
   "metadata": {},
   "outputs": [],
   "source": [
    "class Network(nn.Module):\n",
    "    \n",
    "    def __init__(self):\n",
    "        super().__init__()\n",
    "        self.fc1 = nn.Linear(784, 128)\n",
    "        self.fc2 = nn.Linear(128, 64)\n",
    "        self.fc3 = nn.Linear(64, 10)\n",
    "        self.logSoftmax = nn.LogSoftmax(dim=1)\n",
    "        \n",
    "    def forward(self, x):\n",
    "        x = nn.ReLU()(self.fc1(x))\n",
    "        x = nn.ReLU()(self.fc2(x))\n",
    "        x = self.fc3(x)\n",
    "        x = self.logSoftmax(x)\n",
    "        return x\n",
    "    \n",
    "model = Network()"
   ]
  },
  {
   "cell_type": "markdown",
   "id": "c01baffd-9f55-4a1a-824f-94017d0a2aa8",
   "metadata": {},
   "source": [
    "## Choosing training criterion (loss function) and optimizer"
   ]
  },
  {
   "cell_type": "code",
   "execution_count": null,
   "id": "8b66a1b9-9162-4737-a31e-e283ec7f310f",
   "metadata": {},
   "outputs": [],
   "source": [
    "# Loss function\n",
    "reduction = \"mean\"\n",
    "criterion = nn.NLLLoss(reduction=reduction)\n",
    "\n",
    "# Optimizer setup\n",
    "optimizerSetup = dict(\n",
    "    lr = 0.001,\n",
    "    betas = (0.9, 0.999),\n",
    "    eps = 1e-08)\n",
    "\n",
    "optimizer = optim.Adam(\n",
    "    model.parameters(),\n",
    "    **optimizerSetup)"
   ]
  },
  {
   "cell_type": "markdown",
   "id": "5e8cac63-8a1a-405a-bad6-b277fb5b4710",
   "metadata": {},
   "source": [
    "## Training\n",
    "\n",
    "### Choosing training parameters"
   ]
  },
  {
   "cell_type": "code",
   "execution_count": null,
   "id": "92805049-dc20-443d-b720-4ad4717df62c",
   "metadata": {},
   "outputs": [],
   "source": [
    "epochs = 5\n",
    "batchSize = 300"
   ]
  },
  {
   "cell_type": "code",
   "execution_count": null,
   "id": "b9452d29-af3a-4878-a6a9-77118560f9c9",
   "metadata": {},
   "outputs": [],
   "source": [
    "numBatches = allTrainImages.shape[0] // batchSize\n",
    "numTraining = int(numBatches * batchSize)\n",
    "\n",
    "print(f\"Number of epochs: {epochs}\")\n",
    "print(f\"Batch size: {batchSize}\")\n",
    "print(f\"Total number of train images: {numTraining}\")\n",
    "print(f\"Total number of batches: {numBatches}\")\n",
    "\n",
    "# Reshaping training data\n",
    "trainImages = allTrainImages[:numTraining].reshape(numBatches, -1, allTrainImages.shape[-2], allTrainImages.shape[-1])\n",
    "trainLabels = allTrainLabels[:numTraining].reshape(numBatches, -1)"
   ]
  },
  {
   "cell_type": "markdown",
   "id": "3b28a4cf-4588-4152-a157-ffeea5ad3afb",
   "metadata": {},
   "source": [
    "### Running epochs"
   ]
  },
  {
   "cell_type": "code",
   "execution_count": null,
   "id": "f380538e-2b83-44b5-aba5-59a0f867c87f",
   "metadata": {},
   "outputs": [],
   "source": [
    "if not usePretrained:\n",
    "    lossTrack = np.zeros((epochs, numBatches))\n",
    "    for e in range(epochs):\n",
    "        startTime = time.time()\n",
    "        for i, (images, labels) in enumerate(zip(trainImages, trainLabels)):\n",
    "            images = images.reshape(images.shape[0], -1)\n",
    "            optimizer.zeroGrad()\n",
    "            out = model(images)\n",
    "            loss = criterion(out, labels)\n",
    "            loss.backward()\n",
    "            optimizer.step()\n",
    "            lossTrack[e, i] = loss.item()\n",
    "        else:\n",
    "            endTime = time.time()\n",
    "            print(f\"Finished epoch {e} in {endTime - startTime:.2f}s\")\n",
    "else:\n",
    "    model = nn.Module.load(\"classic.pkl\")"
   ]
  },
  {
   "cell_type": "code",
   "execution_count": null,
   "id": "b40a40a5-f6a4-40f3-908e-9fd136d78a91",
   "metadata": {},
   "outputs": [],
   "source": [
    "if not usePretrained:\n",
    "    legend = \"\\n\".join([f\"{k} = {v}\" for k,v in optimizerSetup.items()])\n",
    "    plotLossTrack([(lossTrack, batchSize, legend)])"
   ]
  },
  {
   "cell_type": "markdown",
   "id": "ff30fa0d-c6d9-40cf-bfba-907e167e8254",
   "metadata": {},
   "source": [
    "### Saving the trained model"
   ]
  },
  {
   "cell_type": "code",
   "execution_count": null,
   "id": "71362283-64e6-45e5-acf1-e530ee86b2c7",
   "metadata": {},
   "outputs": [],
   "source": [
    "if not usePretrained:\n",
    "    nn.Module.save(model, \"classic.pkl\")"
   ]
  },
  {
   "cell_type": "markdown",
   "id": "d2183894-76bb-4065-ad11-421ea746f614",
   "metadata": {},
   "source": [
    "Saved module can be loaded with\n",
    "```python\n",
    "model = nn.Module.load(\"classic.pkl\")\n",
    "```"
   ]
  },
  {
   "cell_type": "markdown",
   "id": "20ce54f7-25c4-4191-b0b3-320fa7b9b91c",
   "metadata": {},
   "source": [
    "## Performance evaluation"
   ]
  },
  {
   "cell_type": "code",
   "execution_count": null,
   "id": "13972d68-49b7-45e7-8cf2-91b6f7c26252",
   "metadata": {},
   "outputs": [],
   "source": [
    "# Image iterator\n",
    "imgIter = iter(allTrainImages)"
   ]
  },
  {
   "cell_type": "markdown",
   "id": "00d46ffd-27e9-4087-8511-7081be879cc1",
   "metadata": {},
   "source": [
    "Run the cell bellow multiple times to check model performance for different images."
   ]
  },
  {
   "cell_type": "code",
   "execution_count": null,
   "id": "651e5e76-c154-4df3-bebf-c802ff6f7b21",
   "metadata": {},
   "outputs": [],
   "source": [
    "img = next(imgIter)\n",
    "img_ = img.reshape(1, -1)\n",
    "\n",
    "logps = model(img_)\n",
    "# Output of the network are log-probabilities\n",
    "ps = np.exp(logps)\n",
    "\n",
    "showMNIST(img.squeeze(), ps.squeeze())"
   ]
  }
 ],
 "metadata": {
  "kernelspec": {
   "display_name": "Python 3 (ipykernel)",
   "language": "python",
   "name": "python3"
  },
  "language_info": {
   "codemirror_mode": {
    "name": "ipython",
    "version": 3
   },
   "file_extension": ".py",
   "mimetype": "text/x-python",
   "name": "python",
   "nbconvert_exporter": "python",
   "pygments_lexer": "ipython3",
   "version": "3.9.13"
  }
 },
 "nbformat": 4,
 "nbformat_minor": 5
}
