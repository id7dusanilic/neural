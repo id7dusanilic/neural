{
 "cells": [
  {
   "cell_type": "code",
   "execution_count": null,
   "id": "1d413f46-5114-48ec-8983-3514c2305531",
   "metadata": {},
   "outputs": [],
   "source": [
    "import sys\n",
    "sys.path.append(\"..\")"
   ]
  },
  {
   "cell_type": "code",
   "execution_count": null,
   "id": "3033b7c7-1565-4f15-a7e3-7eace6b4c9b6",
   "metadata": {},
   "outputs": [],
   "source": [
    "import numpy as np\n",
    "import time\n",
    "\n",
    "from neural import Tensor, nn, optim"
   ]
  },
  {
   "cell_type": "code",
   "execution_count": null,
   "id": "a22ce761-1528-4b37-91c6-31e7e28eddcb",
   "metadata": {},
   "outputs": [],
   "source": [
    "import matplotlib.pyplot as plt"
   ]
  },
  {
   "cell_type": "markdown",
   "id": "b6528942-063d-41ce-a6e3-4142e88e0d97",
   "metadata": {},
   "source": [
    "## Defining training function"
   ]
  },
  {
   "cell_type": "code",
   "execution_count": null,
   "id": "b4128183-a581-436c-bd74-aab609b119b6",
   "metadata": {},
   "outputs": [],
   "source": [
    "def training(x):\n",
    "    return np.sin(np.pi/2*x)"
   ]
  },
  {
   "cell_type": "markdown",
   "id": "1ff23a91-4e89-4bab-9cd5-58123e00fa60",
   "metadata": {},
   "source": [
    "## Defining network architecture"
   ]
  },
  {
   "cell_type": "code",
   "execution_count": null,
   "id": "33f2a8ce-0f5c-4954-8c43-451a43512235",
   "metadata": {},
   "outputs": [],
   "source": [
    "class Network(nn.Module):\n",
    "    \n",
    "    def __init__(self):\n",
    "        super().__init__()\n",
    "        \n",
    "        self.fc1 = nn.Linear(1, 4)\n",
    "        self.fc2 = nn.Linear(4, 1)\n",
    "        \n",
    "    def forward(self, x):\n",
    "        x = nn.Tanh()(self.fc1(x))\n",
    "        x = nn.Tanh()(self.fc2(x))\n",
    "        return x\n",
    "    \n",
    "model = Network()"
   ]
  },
  {
   "cell_type": "markdown",
   "id": "b3283bdc-8485-4912-82de-a23896c48eb7",
   "metadata": {},
   "source": [
    "## Performance before training"
   ]
  },
  {
   "cell_type": "code",
   "execution_count": null,
   "id": "9198db6e-0a6d-479f-85b9-053d40273661",
   "metadata": {},
   "outputs": [],
   "source": [
    "input_ = np.linspace(-1, 1, 100)\n",
    "correctOutput = training(input_)"
   ]
  },
  {
   "cell_type": "code",
   "execution_count": null,
   "id": "3090a12a-125d-42ee-963f-0e9f5d9d7229",
   "metadata": {},
   "outputs": [],
   "source": [
    "networkOutput = np.zeros_like(input_)\n",
    "\n",
    "for i, x in enumerate(input_):\n",
    "    xx = Tensor([x])\n",
    "    networkOutput[i] = model(xx)"
   ]
  },
  {
   "cell_type": "code",
   "execution_count": null,
   "id": "0c276cfd-f4d1-48d6-b765-c243bf4a0ef3",
   "metadata": {},
   "outputs": [],
   "source": [
    "plt.figure(figsize=(12, 8))\n",
    "plt.plot(networkOutput, label=\"Network output\")\n",
    "plt.plot(correctOutput, label=\"Correct output\")\n",
    "plt.title(\"Before training\")\n",
    "plt.grid()\n",
    "plt.legend()\n",
    "plt.show()"
   ]
  },
  {
   "cell_type": "markdown",
   "id": "07bf5e9f-19c8-491c-b3c6-0f1905ced60b",
   "metadata": {},
   "source": [
    "## Defining criterion"
   ]
  },
  {
   "cell_type": "code",
   "execution_count": null,
   "id": "f136028a-a915-416f-8a62-a2c071891e91",
   "metadata": {},
   "outputs": [],
   "source": [
    "criterion = nn.L1Loss()"
   ]
  },
  {
   "cell_type": "markdown",
   "id": "212988c6-afe6-4b56-9e47-e962749341bd",
   "metadata": {},
   "source": [
    "## Configuring optimizer"
   ]
  },
  {
   "cell_type": "code",
   "execution_count": null,
   "id": "48360023-17e4-45b4-b2c5-0964cfb1d766",
   "metadata": {},
   "outputs": [],
   "source": [
    "# SGD parameters\n",
    "lr = 0.03\n",
    "momentum = 0.9\n",
    "\n",
    "optimizer = optim.SGD(\n",
    "    model.parameters(),\n",
    "    lr=lr,\n",
    "    momentum=momentum)"
   ]
  },
  {
   "cell_type": "markdown",
   "id": "e11b213f-be5c-4e66-8f00-a9712ee5f88c",
   "metadata": {},
   "source": [
    "## Training"
   ]
  },
  {
   "cell_type": "code",
   "execution_count": null,
   "id": "73be23be-5941-4b2b-8bf1-883f4f4dd966",
   "metadata": {},
   "outputs": [],
   "source": [
    "# Training samples\n",
    "trainIn = 2*np.random.rand(10000) - 1\n",
    "# Training target\n",
    "target = training(trainIn)"
   ]
  },
  {
   "cell_type": "code",
   "execution_count": null,
   "id": "6bd27238-28e7-448c-8adb-c11d1f0e1b6a",
   "metadata": {},
   "outputs": [],
   "source": [
    "batchSize = 10\n",
    "\n",
    "numBatches = trainIn.size // batchSize\n",
    "numTraining = int(numBatches * batchSize)\n",
    "\n",
    "print(f\"Batch size: {batchSize}\")\n",
    "print(f\"Total number of train samples: {numTraining}\")\n",
    "print(f\"Total number of batches: {numBatches}\")\n",
    "\n",
    "# Reshaping training data\n",
    "trainIn_ = Tensor(trainIn[:numTraining].reshape(numBatches, -1, 1))"
   ]
  },
  {
   "cell_type": "code",
   "execution_count": null,
   "id": "cdf3e6af-1103-45e0-b95d-30081e4be16b",
   "metadata": {},
   "outputs": [],
   "source": [
    "lossTrack = np.zeros(numBatches)\n",
    "\n",
    "for i, x in enumerate(trainIn_):\n",
    "    optimizer.zeroGrad()\n",
    "    out = model(x)\n",
    "    loss = criterion(out, training(x))\n",
    "    loss.backward()\n",
    "    lossTrack[i] = loss.item()\n",
    "    optimizer.step()"
   ]
  },
  {
   "cell_type": "code",
   "execution_count": null,
   "id": "8eb954db-4444-4107-8f3b-fd58ebd8a154",
   "metadata": {},
   "outputs": [],
   "source": [
    "plt.figure(figsize=(12, 8))\n",
    "plt.plot(lossTrack)\n",
    "plt.ylabel(\"Loss\")\n",
    "plt.xlabel(\"Batches processed\")\n",
    "plt.title(\"Training loss\")\n",
    "plt.grid()\n",
    "plt.show()"
   ]
  },
  {
   "cell_type": "code",
   "execution_count": null,
   "id": "c9bed695-7bb5-4ceb-821d-cb956f398089",
   "metadata": {},
   "outputs": [],
   "source": [
    "networkOutput = np.zeros_like(input_)\n",
    "\n",
    "for i, x in enumerate(input_):\n",
    "    xx = Tensor([x])\n",
    "    networkOutput[i] = model(xx)"
   ]
  },
  {
   "cell_type": "code",
   "execution_count": null,
   "id": "df311ff1-aa78-4bcb-9f9a-41b6f145d449",
   "metadata": {},
   "outputs": [],
   "source": [
    "plt.figure(figsize=(12, 8))\n",
    "plt.plot(networkOutput, label=\"Network output\")\n",
    "plt.plot(correctOutput, label=\"Correct output\")\n",
    "plt.title(\"After training\")\n",
    "plt.grid()\n",
    "plt.legend()\n",
    "plt.show()"
   ]
  },
  {
   "cell_type": "code",
   "execution_count": null,
   "id": "e58efc55-d3b0-416e-90dd-8df5639e64eb",
   "metadata": {},
   "outputs": [],
   "source": [
    "error = networkOutput - correctOutput\n",
    "print(f\"Maximum absolute error: {np.max(np.abs(error)):.2f}\")"
   ]
  }
 ],
 "metadata": {
  "kernelspec": {
   "display_name": "Python 3 (ipykernel)",
   "language": "python",
   "name": "python3"
  },
  "language_info": {
   "codemirror_mode": {
    "name": "ipython",
    "version": 3
   },
   "file_extension": ".py",
   "mimetype": "text/x-python",
   "name": "python",
   "nbconvert_exporter": "python",
   "pygments_lexer": "ipython3",
   "version": "3.9.16"
  }
 },
 "nbformat": 4,
 "nbformat_minor": 5
}
