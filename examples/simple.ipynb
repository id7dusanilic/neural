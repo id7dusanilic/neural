{
 "cells": [
  {
   "cell_type": "markdown",
   "id": "717e5033-1bcb-4e87-a3b2-cc67a4cc88c7",
   "metadata": {},
   "source": [
    "# Example of building and training a simple Neural Network\n",
    "In this example, a simple neural network is created using the `neural` framework.\n",
    "The purpose of this network is to emulate the following function:\n",
    "$$y = \\sin\\left(\\frac{\\pi}{2}x\\right), x\\in [-1, 1]$$"
   ]
  },
  {
   "cell_type": "code",
   "execution_count": null,
   "id": "1d413f46-5114-48ec-8983-3514c2305531",
   "metadata": {},
   "outputs": [],
   "source": [
    "import matplotlib.pyplot as plt"
   ]
  },
  {
   "cell_type": "code",
   "execution_count": null,
   "id": "3033b7c7-1565-4f15-a7e3-7eace6b4c9b6",
   "metadata": {},
   "outputs": [],
   "source": [
    "import sys\n",
    "sys.path.append(\"..\")"
   ]
  },
  {
   "cell_type": "code",
   "execution_count": null,
   "id": "a22ce761-1528-4b37-91c6-31e7e28eddcb",
   "metadata": {},
   "outputs": [],
   "source": [
    "import numpy as np\n",
    "import time\n",
    "\n",
    "from neural import Tensor, nn, optim"
   ]
  },
  {
   "cell_type": "markdown",
   "id": "b6528942-063d-41ce-a6e3-4142e88e0d97",
   "metadata": {},
   "source": [
    "## Defining the training function"
   ]
  },
  {
   "cell_type": "code",
   "execution_count": null,
   "id": "b4128183-a581-436c-bd74-aab609b119b6",
   "metadata": {},
   "outputs": [],
   "source": [
    "def training(x):\n",
    "    return np.sin(np.pi/2*x)"
   ]
  },
  {
   "cell_type": "markdown",
   "id": "617fafe6-7d5e-4a4a-a5d7-cc9c5f9ae779",
   "metadata": {},
   "source": [
    "## Defining the Neural Network architecture"
   ]
  },
  {
   "cell_type": "code",
   "execution_count": null,
   "id": "33f2a8ce-0f5c-4954-8c43-451a43512235",
   "metadata": {},
   "outputs": [],
   "source": [
    "class Network(nn.Module):\n",
    "    \n",
    "    def __init__(self):\n",
    "        super().__init__()\n",
    "        self.fc1 = nn.Linear(1, 4)\n",
    "        self.fc2 = nn.Linear(4, 1)\n",
    "        \n",
    "    def forward(self, x):\n",
    "        x = nn.Tanh()(self.fc1(x))\n",
    "        x = nn.Tanh()(self.fc2(x))\n",
    "        return x\n",
    "    \n",
    "model = Network()"
   ]
  },
  {
   "cell_type": "markdown",
   "id": "b3283bdc-8485-4912-82de-a23896c48eb7",
   "metadata": {},
   "source": [
    "## Performance before training"
   ]
  },
  {
   "cell_type": "code",
   "execution_count": null,
   "id": "cc7ad321-4bd6-4258-a3b7-1fcaac917e68",
   "metadata": {},
   "outputs": [],
   "source": [
    "def evaluatePerformance(input_, title=\"\"):\n",
    "    correctOutput = training(input_)\n",
    "    networkOutput = model(Tensor(input_))\n",
    "\n",
    "    plt.figure(figsize=(12, 8))\n",
    "    plt.plot(input_, networkOutput, label=\"Network output\")\n",
    "    plt.plot(input_, correctOutput, label=\"Correct output\")\n",
    "    plt.title(title)\n",
    "    plt.grid()\n",
    "    plt.legend()\n",
    "    plt.show()"
   ]
  },
  {
   "cell_type": "code",
   "execution_count": null,
   "id": "9198db6e-0a6d-479f-85b9-053d40273661",
   "metadata": {},
   "outputs": [],
   "source": [
    "input_ = np.linspace(-1, 1, 100).reshape([-1, 1])"
   ]
  },
  {
   "cell_type": "code",
   "execution_count": null,
   "id": "0c276cfd-f4d1-48d6-b765-c243bf4a0ef3",
   "metadata": {},
   "outputs": [],
   "source": [
    "evaluatePerformance(input_, title=\"Before training\")"
   ]
  },
  {
   "cell_type": "markdown",
   "id": "7a546a17-cc50-4a2f-a8bf-ac62509fdfeb",
   "metadata": {
    "tags": []
   },
   "source": [
    "## Choosing training criterion (loss function) and optimizer"
   ]
  },
  {
   "cell_type": "code",
   "execution_count": null,
   "id": "794a93c4-d5be-4d3c-9055-29e826d41770",
   "metadata": {},
   "outputs": [],
   "source": [
    "# Loss function\n",
    "reduction = \"mean\"\n",
    "criterion = nn.L1Loss(reduction=reduction)\n",
    "\n",
    "# Optimizer setup\n",
    "lr = 0.03\n",
    "momentum = 0.9\n",
    "\n",
    "optimizer = optim.SGD(\n",
    "    model.parameters(),\n",
    "    lr=lr,\n",
    "    momentum=momentum)"
   ]
  },
  {
   "cell_type": "markdown",
   "id": "e11b213f-be5c-4e66-8f00-a9712ee5f88c",
   "metadata": {},
   "source": [
    "## Training"
   ]
  },
  {
   "cell_type": "code",
   "execution_count": null,
   "id": "73be23be-5941-4b2b-8bf1-883f4f4dd966",
   "metadata": {},
   "outputs": [],
   "source": [
    "# Training samples\n",
    "trainIn = 2*np.random.rand(10000) - 1\n",
    "# Training target\n",
    "target = training(trainIn)"
   ]
  },
  {
   "cell_type": "code",
   "execution_count": null,
   "id": "6bd27238-28e7-448c-8adb-c11d1f0e1b6a",
   "metadata": {},
   "outputs": [],
   "source": [
    "batchSize = 10\n",
    "\n",
    "numBatches = trainIn.size // batchSize\n",
    "numTraining = int(numBatches * batchSize)\n",
    "\n",
    "print(f\"Batch size: {batchSize}\")\n",
    "print(f\"Total number of train samples: {numTraining}\")\n",
    "print(f\"Total number of batches: {numBatches}\")\n",
    "\n",
    "# Reshaping training data\n",
    "trainIn_ = Tensor(trainIn[:numTraining].reshape(numBatches, -1, 1))"
   ]
  },
  {
   "cell_type": "code",
   "execution_count": null,
   "id": "cdf3e6af-1103-45e0-b95d-30081e4be16b",
   "metadata": {},
   "outputs": [],
   "source": [
    "lossTrack = np.zeros(numBatches)\n",
    "\n",
    "for i, x in enumerate(trainIn_):\n",
    "    optimizer.zeroGrad()\n",
    "    out = model(x)\n",
    "    loss = criterion(out, training(x))\n",
    "    loss.backward()\n",
    "    lossTrack[i] = loss.item()\n",
    "    optimizer.step()"
   ]
  },
  {
   "cell_type": "code",
   "execution_count": null,
   "id": "8eb954db-4444-4107-8f3b-fd58ebd8a154",
   "metadata": {},
   "outputs": [],
   "source": [
    "plt.figure(figsize=(12, 8))\n",
    "plt.plot(lossTrack)\n",
    "plt.ylabel(\"Loss\")\n",
    "plt.xlabel(\"Batches processed\")\n",
    "plt.title(\"Training loss\")\n",
    "plt.grid()\n",
    "plt.show()"
   ]
  },
  {
   "cell_type": "markdown",
   "id": "b32684ba-1634-4dc1-be9b-672f8540a3cd",
   "metadata": {},
   "source": [
    "### Saving the trained model"
   ]
  },
  {
   "cell_type": "code",
   "execution_count": null,
   "id": "25a21a14-a888-4253-99a2-acc2dbeafd8b",
   "metadata": {},
   "outputs": [],
   "source": [
    "nn.Module.save(model, \"simple.pkl\")"
   ]
  },
  {
   "cell_type": "markdown",
   "id": "a36c8640-bbe0-427f-b2cb-4ef2e3c5bef0",
   "metadata": {},
   "source": [
    "Saved module can be loaded with\n",
    "```python\n",
    "model = nn.Module.load(\"simple.pkl\")\n",
    "```"
   ]
  },
  {
   "cell_type": "markdown",
   "id": "30d3e25b-9df7-4c20-8b2c-dd27cb3277df",
   "metadata": {},
   "source": [
    "## Performance evaluation"
   ]
  },
  {
   "cell_type": "code",
   "execution_count": null,
   "id": "7aced3e9-bc2b-4d34-a33f-1cf9068885c2",
   "metadata": {},
   "outputs": [],
   "source": [
    "evaluatePerformance(input_, title=\"After training\")"
   ]
  },
  {
   "cell_type": "code",
   "execution_count": null,
   "id": "e58efc55-d3b0-416e-90dd-8df5639e64eb",
   "metadata": {},
   "outputs": [],
   "source": [
    "networkOutput = model(Tensor(input_))\n",
    "correctOutput = training(input_)\n",
    "\n",
    "error = networkOutput - correctOutput\n",
    "print(f\"Maximum absolute error: {np.max(np.abs(error)):.2f}\")"
   ]
  }
 ],
 "metadata": {
  "kernelspec": {
   "display_name": "Python 3 (ipykernel)",
   "language": "python",
   "name": "python3"
  },
  "language_info": {
   "codemirror_mode": {
    "name": "ipython",
    "version": 3
   },
   "file_extension": ".py",
   "mimetype": "text/x-python",
   "name": "python",
   "nbconvert_exporter": "python",
   "pygments_lexer": "ipython3",
   "version": "3.9.16"
  }
 },
 "nbformat": 4,
 "nbformat_minor": 5
}
